{
 "cells": [
  {
   "cell_type": "code",
   "execution_count": null,
   "id": "866111d1",
   "metadata": {},
   "outputs": [],
   "source": [
    "'''\n",
    "HELLO THERE WELCOME TO QUANTUM ARCADE !\n",
    "\n",
    "ILL EXPLORE YOU THROUGH THIS DEMONTRATION\n",
    "\n",
    "HOW THIS WORKS:\n",
    "  1) USER IS REQUIRED TO CHOOSE A VALUE OF EITHER 0 OR 1\n",
    "  2) COMPUTER IS ALSO REQUIRED TO CHOOSE A VALUE OF EITHER 0 OR 1\n",
    "  \n",
    "  3) IF COMPUTER COULD GUESS WHAT THE USER HAS CHOSEN : 'COMPUTER WINS'\n",
    "  4) IF COMPUTER FAILS TO GUESS WHAT THE USER WILL CHOOSE : 'USER WINS'\n",
    "  \n",
    "WHAT YOU HAVE TO DO:\n",
    "  1) JUST CHOOSE A VALUE OF 0 OR 1 IN ONE OF THE BLOCK BELOW! WE'LL SAY WHICH BLOCK!\n",
    "  \n",
    " \n",
    " \n",
    " WE'LL EXPLORE YOU THROUGH THIS ARCADE\n",
    " HAVE FUN!\n",
    " TRY TO WIN AGAINST THIS QUANTUM COMPUTER\n",
    "\n",
    "'''"
   ]
  },
  {
   "cell_type": "code",
   "execution_count": 1,
   "id": "58755d5b",
   "metadata": {},
   "outputs": [],
   "source": [
    "'IMPORTING REQUIRED MODULES'\n",
    "\"MAKE SURE TO RUN ALL THE BLOCKS FROM NOW!\"\n",
    "\n",
    "from random import randint as rand\n",
    "from qiskit import QuantumCircuit,assemble, Aer,transpile, execute,IBMQ, QuantumRegister, ClassicalRegister\n",
    "import time\n",
    "from qiskit.visualization import plot_histogram,plot_bloch_multivector\n",
    "from qiskit.providers.ibmq import least_busy\n",
    "provider = IBMQ.load_account()"
   ]
  },
  {
   "cell_type": "code",
   "execution_count": 2,
   "id": "0371dc2c",
   "metadata": {},
   "outputs": [],
   "source": [
    "#SETTING UP ARCADE\n",
    "\n",
    "comp = QuantumRegister(1,'computer')\n",
    "user = QuantumRegister(2,'user')\n",
    "cr = ClassicalRegister(3,'result')\n",
    "\n",
    "arcade = QuantumCircuit(comp,user,cr)\n"
   ]
  },
  {
   "cell_type": "code",
   "execution_count": 3,
   "id": "c0b23dd2",
   "metadata": {
    "scrolled": true
   },
   "outputs": [
    {
     "name": "stderr",
     "output_type": "stream",
     "text": [
      "ibmqfactory.load_account:WARNING:2021-07-18 03:05:12,046: Credentials are already in use. The existing account in the session will be replaced.\n"
     ]
    },
    {
     "name": "stdout",
     "output_type": "stream",
     "text": [
      "least busy backend:  ibmqx2\n"
     ]
    },
    {
     "name": "stderr",
     "output_type": "stream",
     "text": [
      "<ipython-input-3-f93c998e6bc2>:60: DeprecationWarning: Passing a Qobj to Backend.run is deprecated and will be removed in a future release. Please pass in circuits or pulse schedules instead.\n",
      "  job = backend.run(qobj)\n"
     ]
    },
    {
     "name": "stdout",
     "output_type": "stream",
     "text": [
      "Job Status: job has successfully run\n"
     ]
    }
   ],
   "source": [
    "#NOW ITS YOUR TURN! EDIT THE CODE BELOW AND SET TO EITHER 0 OR 1\n",
    "\n",
    "\n",
    "user_chosen = 0\n",
    "\n",
    "\n",
    "##################### choose your value ^^^ ####################################################\n",
    "\n",
    "try:\n",
    "    test = int(user_chosen)\n",
    "    if test != 0 and test != 1:\n",
    "        test = ('invalid input')\n",
    "        test = int(test)\n",
    "except:\n",
    "    raise ValueError\n",
    "\n",
    "#INITIALIZING THE QUANTUM CIRCUIT AND RUNNING THE ARCADE\n",
    "if user_chosen == 1:\n",
    "   desired_initial = [ 0 ,0, 0 ,0 ,0 ,0 ,1 ,0 ]\n",
    "   arcade.initialize(desired_initial,[user[0],user[1],comp[0]])\n",
    "\n",
    "arcade.cx(user[0],user[1])\n",
    "arcade.barrier()\n",
    "arcade.h(comp)\n",
    "arcade.cx(comp[0],user[1])\n",
    "\n",
    "and_gate = QuantumCircuit(3)\n",
    "and_gate.cx(0,1)\n",
    "and_gate.cx(2,1)\n",
    "\n",
    "and_ccx = and_gate.to_instruction()\n",
    "\n",
    "arcade.append( and_ccx, [user[0],comp[0],user[1]])\n",
    "\n",
    "arcade.barrier()\n",
    "arcade.measure(comp[0],cr[0])\n",
    "arcade.measure(user[0],cr[1])\n",
    "arcade.measure(user[1],cr[2])\n",
    "\n",
    "\n",
    "'''\n",
    "backend = Aer.get_backend('qasm_simulator')\n",
    "job = execute(arcade,backend,shots = 1,memory = True)\n",
    "result = job.result()\n",
    "memory = result.get_memory()\n",
    "choices = memory[0]\n",
    "computer_choice = choices[2]\n",
    "'''\n",
    "\n",
    "IBMQ.load_account()\n",
    "\n",
    "provider = IBMQ.get_provider(hub='ibm-q')\n",
    "provider.backends()\n",
    "backend = least_busy(provider.backends(filters=lambda x: x.configuration().n_qubits <= 5 and\n",
    "                                   x.configuration().n_qubits >= 2 and\n",
    "                                   not x.configuration().simulator and x.status().operational==True))\n",
    "print(\"least busy backend: \", backend)\n",
    "\n",
    "# Run our circuit on the least busy backend. Monitor# Run our circuit on the least busy backend. Monitor the execution of the job in the queue\n",
    "from qiskit.tools.monitor import job_monitor\n",
    "\n",
    "\n",
    "transpiled_arcade_circuit = transpile(arcade, backend)\n",
    "qobj = assemble(transpiled_arcade_circuit, shots=2048)\n",
    "job = backend.run(qobj)\n",
    "\n",
    "job_monitor(job, interval= 2)\n",
    "\n",
    "result = job.result()\n",
    "answer = result.get_counts()\n",
    "ans = sorted(answer.items(), key = lambda x: x[1] )\n",
    "output = dict(ans)\n",
    "n = len(output)\n",
    "\n",
    "out_keys = output.keys()\n",
    "choice = list(out_keys)\n",
    "chosen_output = choice[n-1]\n",
    "computer_choice = chosen_output[2]\n"
   ]
  },
  {
   "cell_type": "code",
   "execution_count": 4,
   "id": "fba80e24",
   "metadata": {},
   "outputs": [
    {
     "name": "stdout",
     "output_type": "stream",
     "text": [
      "Your Choice : 0 \n",
      " Computer's Choice : 0  \n",
      "Computer won the bet\n"
     ]
    }
   ],
   "source": [
    "'''\n",
    "YO ! THE RESULT IS OUT !\n",
    "'''\n",
    "\n",
    "\n",
    "print(\"Your Choice : {1} \\n Computer's Choice : {0}  \".format(computer_choice,user_chosen))\n",
    "\n",
    "if str(computer_choice) == str(user_chosen):\n",
    "    print(\"Computer won the bet\")\n",
    "else:\n",
    "    print(\"you've won the bet!\")\n"
   ]
  },
  {
   "cell_type": "code",
   "execution_count": 18,
   "id": "bc21dccf",
   "metadata": {},
   "outputs": [
    {
     "name": "stdout",
     "output_type": "stream",
     "text": [
      "[('111', 23), ('011', 46), ('010', 55), ('110', 55), ('101', 139), ('001', 183), ('100', 718), ('000', 829)]\n",
      "{'111': 23, '011': 46, '010': 55, '110': 55, '101': 139, '001': 183, '100': 718, '000': 829}\n"
     ]
    }
   ],
   "source": [
    "print(ans)\n",
    "k = dict(ans)\n",
    "print(k)"
   ]
  },
  {
   "cell_type": "code",
   "execution_count": 5,
   "id": "2eded8ad",
   "metadata": {},
   "outputs": [
    {
     "data": {
      "text/plain": [
       "'\\nHAHA! FEEL FREE TO TRY AGAIN ! \\n\\nBUT YOU HAVE VERY LESS CHANCE TO WIN THE ARCADE\\n\\nBUT IF THIS ARCADE WAS RUN ON A QUANTUM SIMULATOR OR IDEAL QUANTUM DEVICE, \\nTHEN YOU CAN NEVER WIN AGAINST A COMPUTER!\\n'"
      ]
     },
     "execution_count": 5,
     "metadata": {},
     "output_type": "execute_result"
    }
   ],
   "source": [
    "'''\n",
    "HAHA! FEEL FREE TO TRY AGAIN ! \n",
    "\n",
    "BUT YOU HAVE VERY LESS CHANCE TO WIN THE ARCADE\n",
    "\n",
    "BUT IF THIS ARCADE WAS RUN ON A QUANTUM SIMULATOR OR IDEAL QUANTUM DEVICE, \n",
    "THEN YOU CAN NEVER WIN AGAINST A COMPUTER!\n",
    "'''"
   ]
  },
  {
   "cell_type": "code",
   "execution_count": 6,
   "id": "5eb6adb8",
   "metadata": {
    "scrolled": true
   },
   "outputs": [
    {
     "data": {
      "text/plain": [
       "'NOW LETS EXPLORE HOW THE QUANTUM COMPUTER IS ALWAYS WINNING THE BET! \\n\\nIN QUANTUM COMPUTING WE USE THREE MAIN PROPERTIES OF QUANTUM MECHANICS , THEY ARE:\\n 1) SUPERPOSITION\\n 2) ENTANGLEMENT\\n 3) QUANTUM INTERFERENCE\\n \\nIN THE ABOVE QUANTUM ARCADE, WE USED SUPERPOSITION AND ENTANGLEMENT TO ACHIEVE THIS QUANTUM ADVANTAGE.\\n\\nLETS DIG MORE!\\n\\n'"
      ]
     },
     "execution_count": 6,
     "metadata": {},
     "output_type": "execute_result"
    }
   ],
   "source": [
    "'''NOW LETS EXPLORE HOW THE QUANTUM COMPUTER IS ALWAYS WINNING THE BET! \n",
    "\n",
    "IN QUANTUM COMPUTING WE USE THREE MAIN PROPERTIES OF QUANTUM MECHANICS , THEY ARE:\n",
    " 1) SUPERPOSITION\n",
    " 2) ENTANGLEMENT\n",
    " 3) QUANTUM INTERFERENCE\n",
    " \n",
    "IN THE ABOVE QUANTUM ARCADE, WE USED SUPERPOSITION AND ENTANGLEMENT TO ACHIEVE THIS QUANTUM ADVANTAGE.\n",
    "\n",
    "LETS DIG MORE!\n",
    "\n",
    "'''\n"
   ]
  },
  {
   "cell_type": "code",
   "execution_count": 7,
   "id": "e379b0c6",
   "metadata": {},
   "outputs": [
    {
     "data": {
      "text/plain": [
       "'\\nhere we can see that , qubit 0 which we assigned as computer is on x axis\\n'"
      ]
     },
     "execution_count": 7,
     "metadata": {},
     "output_type": "execute_result"
    }
   ],
   "source": [
    "'''\n",
    "IN THE ABOVE ARCADE WE FIRST CREATED A SUPERPOSITION OF 1 AND 0 AS COMPUTERS CHOICE\n",
    "'''\n",
    "import matplotlib.pyplot as plt\n",
    "from qiskit.visualization import plot_bloch_multivector\n",
    "comp = QuantumRegister(1,'computer')\n",
    "user = QuantumRegister(2,'user')\n",
    "cr = ClassicalRegister(3,'result')\n",
    "\n",
    "arcade = QuantumCircuit(comp,user,cr)\n",
    "\n",
    "arcade.h(comp)\n",
    "\n",
    "plot_bloch_multivector(arcade)\n",
    "'''\n",
    "here we can see that , qubit 0 which we assigned as computer is on x axis\n",
    "'''"
   ]
  },
  {
   "cell_type": "code",
   "execution_count": 8,
   "id": "57a28faf",
   "metadata": {},
   "outputs": [
    {
     "name": "stdout",
     "output_type": "stream",
     "text": [
      "{'001 000': 509, '000 000': 491}\n"
     ]
    },
    {
     "data": {
      "text/plain": [
       "\"THIS MEANS THAT APPROXIMATELY 50% OF TIME WE ARE GETTING 1 ON QUBITO AND OTHER 50% TIMES WE'RE GETTING 0 \""
      ]
     },
     "execution_count": 8,
     "metadata": {},
     "output_type": "execute_result"
    }
   ],
   "source": [
    "'''NOW LETS LOOK AT WHAT OUTPUT THESE ARE GIVING\n",
    "IN THIS TUTORIAL WE'LL BE USING QASM SIMULATOR INSTEAD OF A REAL QUANTUM DEVICE.\n",
    "USING A QASM SIMULATOR WILL GIVE A 100% PROBABILITY FOR A QUANTUM COMPUTER TO WIN!\n",
    "\n",
    "'''\n",
    "\n",
    "arcade.measure_all()\n",
    "backend = Aer.get_backend('qasm_simulator')\n",
    "job = execute(arcade,backend,shots=1000)\n",
    "result = job.result()\n",
    "counts = result.get_counts()\n",
    "print(counts)\n",
    "\n",
    "'''THIS MEANS THAT APPROXIMATELY 50% OF TIME WE ARE GETTING 1 ON QUBITO AND OTHER 50% TIMES WE'RE GETTING 0 '''"
   ]
  },
  {
   "cell_type": "code",
   "execution_count": 9,
   "id": "dbeb41e9",
   "metadata": {},
   "outputs": [
    {
     "data": {
      "image/png": "[encoded data removed]",
      "text/plain": [
       "<Figure size 293.826x264.88 with 1 Axes>"
      ]
     },
     "execution_count": 9,
     "metadata": {},
     "output_type": "execute_result"
    }
   ],
   "source": [
    "'''\n",
    "LETS REDEFINE THE CIRCUIT AGAIN TO REMOVE THE MEASUREMENTS FROM PREVIOUS BLOCK\n",
    "'''\n",
    "\n",
    "\n",
    "comp = QuantumRegister(1,'computer')\n",
    "user = QuantumRegister(2,'user')\n",
    "cr = ClassicalRegister(3,'result')\n",
    "\n",
    "arcade = QuantumCircuit(comp,user,cr)\n",
    "\n",
    "arcade.h(comp)\n",
    "\n",
    "\n",
    "'''\n",
    "LETS LOOK AT THE CIRCUIT WHEN USER CHOOSES 0\n",
    "\n",
    "YOU WOULD HAVE DOUBTED WHY QUBIT 1 AND QUBIT 2 WERE DESIGNATED FOR USERS RIGHT?\n",
    "WELL, WE USE QUBIT 2 TO CREATE AN ENTANGLEMENT BETWEEN THE QUBIT 0 AND QUBIT 2\n",
    "\n",
    "WE'LL TALK ABOUT THE QUBIT 1 LATER!\n",
    "'''\n",
    "user_chosen = 0\n",
    "arcade.cx(user[0],user[1])\n",
    "arcade.cx(comp[0],user[1])\n",
    "\n",
    "#lets look at the circuit\n",
    "arcade.draw()\n"
   ]
  },
  {
   "cell_type": "code",
   "execution_count": 10,
   "id": "6ec85d82",
   "metadata": {},
   "outputs": [
    {
     "name": "stdout",
     "output_type": "stream",
     "text": [
      "{'000 000': 493, '101 000': 507}\n"
     ]
    },
    {
     "data": {
      "text/plain": [
       "'\\nWE CAN CLEARLY SEE THAT QUBIT-0 AND QUBIT-2 ARE ENTANGLED !\\n'"
      ]
     },
     "execution_count": 10,
     "metadata": {},
     "output_type": "execute_result"
    }
   ],
   "source": [
    "'''NOW LETS LOOK AT WHAT OUTPUT THESE ARE GIVING'''\n",
    "\n",
    "arcade.measure_all()\n",
    "backend = Aer.get_backend('qasm_simulator')\n",
    "job = execute(arcade,backend,shots=1000)\n",
    "result = job.result()\n",
    "counts = result.get_counts()\n",
    "print(counts)\n",
    "\n",
    "'''\n",
    "WE CAN CLEARLY SEE THAT QUBIT-0 AND QUBIT-2 ARE ENTANGLED !\n",
    "'''"
   ]
  },
  {
   "cell_type": "code",
   "execution_count": 11,
   "id": "bd0775a5",
   "metadata": {},
   "outputs": [
    {
     "data": {
      "image/png": "[encoded data removed]",
      "text/plain": [
       "<Figure size 715.226x264.88 with 1 Axes>"
      ]
     },
     "execution_count": 11,
     "metadata": {},
     "output_type": "execute_result"
    }
   ],
   "source": [
    "#REDEFENING THE CIRCUIT AGAIN!\n",
    "\n",
    "comp = QuantumRegister(1,'computer')\n",
    "user = QuantumRegister(2,'user')\n",
    "cr = ClassicalRegister(3,'result')\n",
    "\n",
    "arcade = QuantumCircuit(comp,user,cr)\n",
    "\n",
    "user_chosen = 0\n",
    "\n",
    "if user_chosen == 1:\n",
    "    desired_initial = [ 0 ,0, 0 ,0 ,0 ,0 ,1 ,0 ]\n",
    "\n",
    "    arcade.initialize(desired_initial,[user[0],user[1],comp[0]])\n",
    "\n",
    "arcade.cx(user[0],user[1])\n",
    "arcade.h(comp)\n",
    "arcade.cx(comp[0],user[1])\n",
    "arcade.barrier()\n",
    "\n",
    "\n",
    "\n",
    "'''\n",
    "NOW , SINCE THE COMPUTER WANTS TO WIN!\n",
    "IT MUST BREAK THE SUPERPOSITION INTO A VALUE WHICH IS USER'S CHOICE\n",
    "(REMEMBER SUPERPOSITION WAS COMPUTER'S INITIAL CHOICE!)\n",
    "TO DO THAT, WE HAVE TO FLIP THE MEASUREMENT OF COMPUTER IF QUBIT-1 AND QUBIT-2 ARE DIFFERENT\n",
    "\n",
    "SO NOW WE MAKE A CUSTOM GATE TO DO THIS OPERATION AND MEASURE THE CIRCUIT\n",
    "'''\n",
    "\n",
    "and_gate = QuantumCircuit(3)\n",
    "and_gate.cx(0,1)\n",
    "and_gate.cx(2,1)\n",
    "\n",
    "and_ccx = and_gate.to_instruction()\n",
    "arcade.append( and_ccx, [user[0],comp[0],user[1]])\n",
    "\n",
    "arcade.barrier()\n",
    "arcade.measure(comp[0],cr[0])\n",
    "arcade.measure(user[0],cr[1])\n",
    "arcade.measure(user[1],cr[2])\n",
    "\n",
    "#LETS LOOK AT THE CIRCUIT\n",
    "arcade.draw()"
   ]
  },
  {
   "cell_type": "code",
   "execution_count": 12,
   "id": "9d99f805",
   "metadata": {},
   "outputs": [
    {
     "name": "stdout",
     "output_type": "stream",
     "text": [
      "Your Choice : 0 \n",
      " Computer's Choice : 0  \n",
      "output taken from the simulator:\n",
      "100\n",
      "\n",
      " outputs which we received from Qasm Simulator\n",
      "{'100': 1027, '000': 1021}\n"
     ]
    }
   ],
   "source": [
    "'''FINALLY WE ARE DONE WITH THE CIRCUIT!\n",
    "NOW LETS RUN THIS ARCADE ON A SIMULATOR\n",
    "'''\n",
    "\n",
    "backend = Aer.get_backend('qasm_simulator')\n",
    "job = execute(arcade,backend,shots = 2048)\n",
    "result = job.result()\n",
    "counts = result.get_counts()\n",
    "\n",
    "answer = counts.keys()\n",
    "answer = list(answer)\n",
    "\n",
    "#here we're taking the first value from output,\n",
    "# both the output would give the same result\n",
    "choices = answer[0]\n",
    "\n",
    "computer_choice = choices[2]\n",
    "\n",
    "\n",
    "#LETS LOOK INTO THE RESULTS\n",
    "\n",
    "print(\"Your Choice : {1} \\n Computer's Choice : {0}  \".format(computer_choice,user_chosen))\n",
    "\n",
    "# printing what we got as output\n",
    "print(\"output taken from the simulator:\")\n",
    "print(choices) \n",
    "\n",
    "print(\"\\n outputs which we received from Qasm Simulator\")\n",
    "print(counts)"
   ]
  },
  {
   "cell_type": "code",
   "execution_count": 38,
   "id": "c5dcd5f5",
   "metadata": {},
   "outputs": [
    {
     "name": "stderr",
     "output_type": "stream",
     "text": [
      "ibmqfactory.load_account:WARNING:2021-06-06 07:05:00,272: Credentials are already in use. The existing account in the session will be replaced.\n"
     ]
    },
    {
     "name": "stdout",
     "output_type": "stream",
     "text": [
      "least busy backend:  ibmq_belem\n"
     ]
    },
    {
     "name": "stderr",
     "output_type": "stream",
     "text": [
      "<ipython-input-38-e1e58b5f82b3>:21: DeprecationWarning: Passing a Qobj to Backend.run is deprecated and will be removed in a future release. Please pass in circuits or pulse schedules instead.\n",
      "  job = backend.run(qobj)\n"
     ]
    },
    {
     "name": "stdout",
     "output_type": "stream",
     "text": [
      "Job Status: job has successfully run\n"
     ]
    }
   ],
   "source": [
    "'''\n",
    "NOW LETS TRY TO GET THE OUTPUT FROM A REAL QUANTUM DEVICE \n",
    "REMEMBER THAT MORE THE NUMBER OF SHOTS THE BETTER OUR MODEL WILL BE\n",
    "'''\n",
    "\n",
    "IBMQ.load_account()\n",
    "\n",
    "provider = IBMQ.get_provider(hub='ibm-q')\n",
    "provider.backends()\n",
    "backend = least_busy(provider.backends(filters=lambda x:\n",
    "                                   x.configuration().n_qubits >= 3 and\n",
    "                                   not x.configuration().simulator and x.status().operational==True))\n",
    "print(\"least busy backend: \", backend)\n",
    "\n",
    "# Run our circuit on the least busy backend. Monitor# Run our circuit on the least busy backend. Monitor the execution of the job in the queue\n",
    "from qiskit.tools.monitor import job_monitor\n",
    "\n",
    "\n",
    "transpiled_arcade_circuit = transpile(arcade, backend)\n",
    "qobj = assemble(transpiled_arcade_circuit, shots=2048)\n",
    "job = backend.run(qobj)\n",
    "\n",
    "job_monitor(job, interval= 2)\n",
    "\n",
    "result = job.result()\n",
    "answer = result.get_counts()\n",
    "ans = sorted(answer.items(), key = lambda x: x[1] )\n",
    "output = dict(ans)\n",
    "n = len(output)\n",
    "\n",
    "out_keys = output.keys()\n",
    "choice = list(out_keys)\n",
    "chosen_output = choice[n-1]\n",
    "computer_choice = chosen_output[2]\n"
   ]
  },
  {
   "cell_type": "code",
   "execution_count": 66,
   "id": "c62a7735",
   "metadata": {},
   "outputs": [
    {
     "name": "stdout",
     "output_type": "stream",
     "text": [
      "Your Choice : 0 \n",
      " Computer's Choice : 0  \n",
      "Computer won the bet\n",
      "\n",
      "\n",
      "{'000': 438, '001': 437, '010': 105, '011': 98, '100': 411, '101': 373, '110': 83, '111': 103}\n"
     ]
    }
   ],
   "source": [
    "'''\n",
    "THE RESULT IS OUT !\n",
    "'''\n",
    "\n",
    "\n",
    "print(\"Your Choice : {1} \\n Computer's Choice : {0}  \".format(computer_choice,user_chosen))\n",
    "\n",
    "if str(computer_choice) == str(user_chosen):\n",
    "    print(\"Computer won the bet\")\n",
    "else:\n",
    "    print(\"User won the bet!\")\n",
    "\n",
    "  \n",
    "print(\"\\n\")\n",
    "#lets look at the output we got from our backend\n",
    "print(answer)"
   ]
  },
  {
   "cell_type": "code",
   "execution_count": 41,
   "id": "ca37eb3d",
   "metadata": {},
   "outputs": [
    {
     "name": "stdout",
     "output_type": "stream",
     "text": [
      "optimal output which the computer has chosen is :000\n"
     ]
    },
    {
     "data": {
      "image/png": "[encoded data removed]",
      "text/plain": [
       "<Figure size 504x360 with 1 Axes>"
      ]
     },
     "execution_count": 41,
     "metadata": {},
     "output_type": "execute_result"
    }
   ],
   "source": [
    "print(\"optimal output which the computer has chosen is :\" + str(chosen_output))\n",
    "\n",
    "plot_histogram(answer, title='outputs from backend')"
   ]
  },
  {
   "cell_type": "code",
   "execution_count": null,
   "id": "7ecd903e",
   "metadata": {},
   "outputs": [],
   "source": [
    "'''AS YOU CAN SEE THAT, THERE ARE MANY UNDESIRED OUTPUTS FROM THE REAL QUANTUM DEVICE.\n",
    "IT IS DUE TO THE ERROR PRESENT IN THE REAL QUANTUM DEVICES.\n",
    "'''"
   ]
  },
  {
   "cell_type": "code",
   "execution_count": 1,
   "id": "83ca2bde",
   "metadata": {},
   "outputs": [
    {
     "data": {
      "text/plain": [
       "{'qiskit-terra': '0.17.4', 'qiskit-aer': '0.8.2', 'qiskit-ignis': '0.6.0', 'qiskit-ibmq-provider': '0.14.0', 'qiskit-aqua': '0.9.2', 'qiskit': '0.27.0', 'qiskit-nature': '0.1.3', 'qiskit-finance': None, 'qiskit-optimization': '0.1.0', 'qiskit-machine-learning': None}"
      ]
     },
     "execution_count": 1,
     "metadata": {},
     "output_type": "execute_result"
    }
   ],
   "source": [
    "'''\n",
    "HOPE YOU ENJOIYED!\n",
    "\n",
    "Created by - MOHAMMAD ANSAH KURIYODATH\n",
    "contact: mohdansah10@gmail.com\n",
    "\n",
    "Idea adopted from : TEDWOMEN-2018-NOVEMBER by\n",
    "    SHOHINI GHOSE \n",
    "    https://www.ted.com/talks/shohini_ghose_a_beginner_s_guide_to_quantum_computing#:~:text=Shohini%20Ghose%20explores%20the%20strange%20quantum%20world%20of,inclusive%20for%20people%20of%20all%20genders%20and%20backgrounds.    \n",
    "   \n",
    "\n",
    "THANKS TO QISKIT!\n",
    "'''\n",
    "import qiskit\n",
    "qiskit.__qiskit_version__"
   ]
  }
 ],
 "metadata": {
  "kernelspec": {
   "display_name": "Qiskit v0.33.1 (ipykernel)",
   "language": "python",
   "name": "python3"
  },
  "language_info": {
   "codemirror_mode": {
    "name": "ipython",
    "version": 3
   },
   "file_extension": ".py",
   "mimetype": "text/x-python",
   "name": "python",
   "nbconvert_exporter": "python",
   "pygments_lexer": "ipython3",
   "version": "3.8.10"
  },
  "widgets": {
   "application/vnd.jupyter.widget-state+json": {
    "state": {},
    "version_major": 2,
    "version_minor": 0
   }
  }
 },
 "nbformat": 4,
 "nbformat_minor": 5
}
